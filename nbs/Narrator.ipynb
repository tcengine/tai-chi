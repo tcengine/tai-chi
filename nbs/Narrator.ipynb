{
 "cells": [
  {
   "cell_type": "markdown",
   "metadata": {},
   "source": [
    "# Narrator\n",
    "> Narrator can explain how to train the model with all the clicking"
   ]
  },
  {
   "cell_type": "code",
   "execution_count": 11,
   "metadata": {},
   "outputs": [],
   "source": [
    "from tai_chi_engine.utils import Narrator\n",
    "from tai_chi_tuna.config import PhaseConfig\n",
    "from tai_chi_tuna.front.html import DOM, list_group_kv\n",
    "from pathlib import Path"
   ]
  },
  {
   "cell_type": "markdown",
   "metadata": {},
   "source": [
    "Make a fake project folder"
   ]
  },
  {
   "cell_type": "code",
   "execution_count": 8,
   "metadata": {},
   "outputs": [],
   "source": [
    "!mkdir -p example1"
   ]
  },
  {
   "cell_type": "code",
   "execution_count": 9,
   "metadata": {},
   "outputs": [
    {
     "name": "stdout",
     "output_type": "stream",
     "text": [
      "Overwriting example1/phase.json\n"
     ]
    }
   ],
   "source": [
    "%%writefile example1/phase.json\n",
    "{\n",
    "  \"enrich\": [\n",
    "    {\n",
    "      \"src\": \"image_path\",\n",
    "      \"dst\": \"image\",\n",
    "      \"kwargs\": {\n",
    "        \"convert\": \"RGB\",\n",
    "        \"size\": 224\n",
    "      },\n",
    "      \"enrich\": \"EnrichImage\"\n",
    "    }\n",
    "  ],\n",
    "  \"quantify\": [\n",
    "    {\n",
    "      \"src\": \"image\",\n",
    "      \"x\": true,\n",
    "      \"kwargs\": {\n",
    "        \"mean_\": \"imagenet\",\n",
    "        \"std_\": \"imagenet\"\n",
    "      },\n",
    "      \"quantify\": \"QuantifyImage\"\n",
    "    },\n",
    "    {\n",
    "      \"src\": \"Genre\",\n",
    "      \"x\": false,\n",
    "      \"kwargs\": {\n",
    "        \"min_frequency\": 1,\n",
    "        \"separator\": \";\"\n",
    "      },\n",
    "      \"quantify\": \"QuantifyMultiCategory\"\n",
    "    }\n",
    "  ],\n",
    "  \"batch_level\": {\n",
    "    \"valid_ratio\": 0.1,\n",
    "    \"batch_size\": 32,\n",
    "    \"shuffle\": true,\n",
    "    \"num_workers\": 0\n",
    "  },\n",
    "  \"x_models\": {\n",
    "    \"image\": {\n",
    "      \"model_name\": \"ImageConvEncoder\",\n",
    "      \"src\": \"image\",\n",
    "      \"kwargs\": {\n",
    "        \"name\": \"resnet34\"\n",
    "      }\n",
    "    }\n",
    "  },\n",
    "  \"y_models\": {\n",
    "    \"Genre\": {\n",
    "      \"model_name\": \"MultiCategoryTop\",\n",
    "      \"src\": \"Genre\",\n",
    "      \"kwargs\": {\n",
    "        \"hidden_size\": 0\n",
    "      }\n",
    "    }\n",
    "  },\n",
    "  \"task_slug\": \"image_to_Genre\"\n",
    "}"
   ]
  },
  {
   "cell_type": "markdown",
   "metadata": {},
   "source": [
    "Load configuration"
   ]
  },
  {
   "cell_type": "code",
   "execution_count": 10,
   "metadata": {},
   "outputs": [
    {
     "name": "stderr",
     "output_type": "stream",
     "text": [
      "WARNING:root:Loading phase config from example1/phase.json\n"
     ]
    }
   ],
   "source": [
    "phase = PhaseConfig.load(Path(\"./example1\"))"
   ]
  },
  {
   "cell_type": "code",
   "execution_count": 12,
   "metadata": {},
   "outputs": [
    {
     "data": {
      "text/html": [
       "<div><ul><h3 style=\"color:#FFAA33;background-color:#FFFFFF;padding:3px\">Step 1: Enrich</h3><li style=\"padding:2px;background-color:#FFFFDD\">select column 'image_path' for 'src'</li><li style=\"padding:2px;background-color:#FFFFDD\">select 'EnrichImage' for 'enrich'</li><li style=\"padding:2px;background-color:#FFFFDD\">The kwargs of 'EnrichImage' should be set to:</li><li style=\"padding:2px;background-color:#FFFFDD\"><table class=\".table\"><tr class=\"tr\"><th class=\"font-weight-bold th\" style=\"color:#FF5522;padding:2px\">convert:</th><td class=\"font-weight-bold td\" style=\"color:#333355;padding:2px;border-bottom:1px solid #333355\">RGB </td></tr><tr class=\"tr\"><th class=\"font-weight-bold th\" style=\"color:#FF5522;padding:2px\">size:</th><td class=\"font-weight-bold td\" style=\"color:#333355;padding:2px;border-bottom:1px solid #333355\">224 </td></tr></table></li><h5 style=\"background-color:#11CCDD;color:#FFF;padding:3px\">Congrats! now Click ✔️Next above</h5></ul><ul><h3 style=\"color:#FFAA33;background-color:#FFFFFF;padding:3px\">Step 2: Quantify</h3>\n",
       "                In this model we are using \n",
       "                <strong style='color:#3399FF'>\n",
       "                column(s):'image'</strong> \n",
       "                to guess <strong style='color:#33CC55'>\n",
       "                column:'Genre'</strong>\n",
       "                \n",
       "                            <h4 style='color:#3399FF'>\n",
       "                            There are 1 X column(s):</h4><li style=\"padding:2px;background-color:#FFFFDD\">\n",
       "                        <h5>Quantify config for 'image' column</h5></li><li style=\"padding:2px;background-color:#FFFFDD\">\n",
       "                        Select 'image' as 'src'</li><li style=\"padding:2px;background-color:#FFFFDD\">\n",
       "                        Choose 'As X', \n",
       "                        So column image is used as \n",
       "                        input data</li><li style=\"padding:2px;background-color:#FFFFDD\">Click Button: 'Run Interact'</li><li style=\"padding:2px;background-color:#FFFFDD\">\n",
       "                        Choose 'QuantifyImage' as the method to \n",
       "                        transform 'image' into matrix/tensor</li><li style=\"padding:2px;background-color:#FFFFDD\">Click Button: 'Run Interact' to set kwargs</li><li style=\"padding:2px;background-color:#FFFFDD\">The kwargs of 'QuantifyImage' should be set to:</li><li style=\"padding:2px;background-color:#FFFFDD\"><table class=\".table\"><tr class=\"tr\"><th class=\"font-weight-bold th\" style=\"color:#FF5522;padding:2px\">mean_:</th><td class=\"font-weight-bold td\" style=\"color:#333355;padding:2px;border-bottom:1px solid #333355\">imagenet </td></tr><tr class=\"tr\"><th class=\"font-weight-bold th\" style=\"color:#FF5522;padding:2px\">std_:</th><td class=\"font-weight-bold td\" style=\"color:#333355;padding:2px;border-bottom:1px solid #333355\">imagenet </td></tr></table></li><li style=\"padding:2px;background-color:#FFFFDD\">Click Button:+Create</li>\n",
       "                            <h4 style='color:#33CC55'>\n",
       "                            There is our 1 Y column:</h4><li style=\"padding:2px;background-color:#FFFFDD\">\n",
       "                        <h5>Quantify config for 'Genre' column</h5></li><li style=\"padding:2px;background-color:#FFFFDD\">\n",
       "                        Select 'Genre' as 'src'</li><li style=\"padding:2px;background-color:#FFFFDD\">\n",
       "                        Choose 'As Y', \n",
       "                        So column Genre is used as \n",
       "                        output data</li><li style=\"padding:2px;background-color:#FFFFDD\">Click Button: 'Run Interact'</li><li style=\"padding:2px;background-color:#FFFFDD\">\n",
       "                        Choose 'QuantifyMultiCategory' as the method to \n",
       "                        transform 'Genre' into matrix/tensor</li><li style=\"padding:2px;background-color:#FFFFDD\">Click Button: 'Run Interact' to set kwargs</li><li style=\"padding:2px;background-color:#FFFFDD\">The kwargs of 'QuantifyMultiCategory' should be set to:</li><li style=\"padding:2px;background-color:#FFFFDD\"><table class=\".table\"><tr class=\"tr\"><th class=\"font-weight-bold th\" style=\"color:#FF5522;padding:2px\">min_frequency:</th><td class=\"font-weight-bold td\" style=\"color:#333355;padding:2px;border-bottom:1px solid #333355\">1 </td></tr><tr class=\"tr\"><th class=\"font-weight-bold th\" style=\"color:#FF5522;padding:2px\">separator:</th><td class=\"font-weight-bold td\" style=\"color:#333355;padding:2px;border-bottom:1px solid #333355\">; </td></tr></table></li><li style=\"padding:2px;background-color:#FFFFDD\">Click Button:+Create</li><h5 style=\"background-color:#11CCDD;color:#FFF;padding:3px\">Congrats! now Click ✔️Next above</h5></ul><ul><h3 style=\"color:#FFAA33;background-color:#FFFFFF;padding:3px\">Step 3: Model</h3><h5>Batching up Data</h5><li style=\"padding:2px;background-color:#FFFFDD\">We slide valid_ratio to '0.1'\n",
       "                    as around '10%' of total data\n",
       "                    will be used as validation set</li><li style=\"padding:2px;background-color:#FFFFDD\">\n",
       "            We set batch_size to '32',\n",
       "            if you run into memory error or GPU OOM,\n",
       "            keep halfing this number, until it works</li><li style=\"padding:2px;background-color:#FFFFDD\">We keep the 'shuffle' checkbox to 'checked'</li><li style=\"padding:2px;background-color:#FFFFDD\">We set the 'num_workers' to '0',\n",
       "                so 1\n",
       "                cpu core(s) will transform the data.\n",
       "                </li><li style=\"padding:2px;background-color:#FFFFDD\">Click '+create'</li>\n",
       "                <h4 id='step-model-x' style='color:#3399FF'>1\n",
       "                model parts for 'x'</h4><li style=\"padding:2px;background-color:#FFFFDD\">\n",
       "                    <h6 id='step-model-x-part-image' style='color:#3399FF'>\n",
       "                    Select 'image' as 'src'</h6></li><li style=\"padding:2px;background-color:#FFFFDD\">\n",
       "                    Chooose <strong style=\"color:#3399FF\">'ImageConvEncoder'\n",
       "                    </strong>\n",
       "                    </li><li style=\"padding:2px;background-color:#FFFFDD\">\n",
       "                Click 'Yes!', then set the kwargs to the following:</li><li style=\"padding:2px;background-color:#FFFFDD\"><table class=\".table\"><tr class=\"tr\"><th class=\"font-weight-bold th\" style=\"color:#FF5522;padding:2px\">name:</th><td class=\"font-weight-bold td\" style=\"color:#333355;padding:2px;border-bottom:1px solid #333355\">resnet34 </td></tr></table></li><li style=\"padding:2px;background-color:#FFFFDD\">Click 'Okay'</li>\n",
       "                <h4 id='step-model-y' style='color:#33CC55'>1\n",
       "                model parts for 'y'</h4><li style=\"padding:2px;background-color:#FFFFDD\">\n",
       "                    <h6 id='step-model-y-part-Genre' style='color:#33CC55'>\n",
       "                    Select 'Genre' as 'src'</h6></li><li style=\"padding:2px;background-color:#FFFFDD\">\n",
       "                    Chooose <strong style=\"color:#33CC55\">'MultiCategoryTop'\n",
       "                    </strong>\n",
       "                    </li><li style=\"padding:2px;background-color:#FFFFDD\">\n",
       "                Click 'Yes!', then set the kwargs to the following:</li><li style=\"padding:2px;background-color:#FFFFDD\"><table class=\".table\"><tr class=\"tr\"><th class=\"font-weight-bold th\" style=\"color:#FF5522;padding:2px\">hidden_size:</th><td class=\"font-weight-bold td\" style=\"color:#333355;padding:2px;border-bottom:1px solid #333355\">0 </td></tr></table></li><li style=\"padding:2px;background-color:#FFFFDD\">Click 'Okay'</li><h5 style=\"background-color:#11CCDD;color:#FFF;padding:3px\">Congrats! now Click ✔️Next above</h5></ul><ul><h3 style=\"color:#FFAA33;background-color:#FFFFFF;padding:3px\">Step 4: Training</h3><h4>Final Step!</h4>\n",
       "        🍹 You might experience some waiting while tai-chi-engine\n",
       "        it's trying to download the pre-trained model<h5 style=\"background-color:#11CCDD;color:#FFF;padding:3px\">🚀 Click '+create' to start the training</h5></ul></div>"
      ],
      "text/plain": [
       "<IPython.core.display.HTML object>"
      ]
     },
     "metadata": {},
     "output_type": "display_data"
    }
   ],
   "source": [
    "Narrator(phase)()"
   ]
  },
  {
   "cell_type": "code",
   "execution_count": null,
   "metadata": {},
   "outputs": [],
   "source": []
  }
 ],
 "metadata": {
  "kernelspec": {
   "display_name": "Python 3 (ipykernel)",
   "language": "python",
   "name": "python3"
  },
  "language_info": {
   "codemirror_mode": {
    "name": "ipython",
    "version": 3
   },
   "file_extension": ".py",
   "mimetype": "text/x-python",
   "name": "python",
   "nbconvert_exporter": "python",
   "pygments_lexer": "ipython3",
   "version": "3.7.4"
  },
  "toc": {
   "base_numbering": 1,
   "nav_menu": {},
   "number_sections": true,
   "sideBar": true,
   "skip_h1_title": false,
   "title_cell": "Table of Contents",
   "title_sidebar": "Contents",
   "toc_cell": false,
   "toc_position": {},
   "toc_section_display": true,
   "toc_window_display": false
  }
 },
 "nbformat": 4,
 "nbformat_minor": 4
}
