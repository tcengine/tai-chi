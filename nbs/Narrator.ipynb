{
 "cells": [
  {
   "cell_type": "code",
   "execution_count": 54,
   "metadata": {},
   "outputs": [],
   "source": [
    "from tai_chi_tuna.config import PhaseConfig\n",
    "from tai_chi_tuna.front.html import DOM, list_group_kv\n",
    "from pathlib import Path"
   ]
  },
  {
   "cell_type": "code",
   "execution_count": 18,
   "metadata": {},
   "outputs": [],
   "source": [
    "!mkdir -p example1"
   ]
  },
  {
   "cell_type": "code",
   "execution_count": 25,
   "metadata": {},
   "outputs": [
    {
     "name": "stdout",
     "output_type": "stream",
     "text": [
      "Overwriting example1/phase.json\n"
     ]
    }
   ],
   "source": [
    "%%writefile example1/phase.json\n",
    "{\n",
    "  \"enrich\": [\n",
    "    {\n",
    "      \"src\": \"image_path\",\n",
    "      \"dst\": \"image\",\n",
    "      \"kwargs\": {\n",
    "        \"convert\": \"RGB\",\n",
    "        \"size\": 224\n",
    "      },\n",
    "      \"enrich\": \"EnrichImage\"\n",
    "    }\n",
    "  ],\n",
    "  \"quantify\": [\n",
    "    {\n",
    "      \"src\": \"image\",\n",
    "      \"x\": true,\n",
    "      \"kwargs\": {\n",
    "        \"mean_\": \"imagenet\",\n",
    "        \"std_\": \"imagenet\"\n",
    "      },\n",
    "      \"quantify\": \"QuantifyImage\"\n",
    "    },\n",
    "    {\n",
    "      \"src\": \"Genre\",\n",
    "      \"x\": false,\n",
    "      \"kwargs\": {\n",
    "        \"min_frequency\": 1,\n",
    "        \"separator\": \";\"\n",
    "      },\n",
    "      \"quantify\": \"QuantifyMultiCategory\"\n",
    "    }\n",
    "  ],\n",
    "  \"batch_level\": {\n",
    "    \"valid_ratio\": 0.1,\n",
    "    \"batch_size\": 32,\n",
    "    \"shuffle\": true,\n",
    "    \"num_workers\": 0\n",
    "  },\n",
    "  \"x_models\": {\n",
    "    \"image\": {\n",
    "      \"model_name\": \"ImageConvEncoder\",\n",
    "      \"src\": \"image\",\n",
    "      \"kwargs\": {\n",
    "        \"name\": \"resnet34\"\n",
    "      }\n",
    "    }\n",
    "  },\n",
    "  \"y_models\": {\n",
    "    \"Genre\": {\n",
    "      \"model_name\": \"MultiCategoryTop\",\n",
    "      \"src\": \"Genre\",\n",
    "      \"kwargs\": {\n",
    "        \"hidden_size\": 0\n",
    "      }\n",
    "    }\n",
    "  },\n",
    "  \"task_slug\": \"image_to_Genre\"\n",
    "}"
   ]
  },
  {
   "cell_type": "code",
   "execution_count": 26,
   "metadata": {},
   "outputs": [
    {
     "name": "stderr",
     "output_type": "stream",
     "text": [
      "WARNING:root:Loading phase config from example1/phase.json\n"
     ]
    }
   ],
   "source": [
    "phase = PhaseConfig.load(Path(\"./example1\"))"
   ]
  },
  {
   "cell_type": "code",
   "execution_count": 59,
   "metadata": {},
   "outputs": [],
   "source": [
    "class Narrator:\n",
    "    def __init__(self, phase):\n",
    "        self.phase=phase\n",
    "        \n",
    "    def __call__(self,):\n",
    "        self.narrate()()\n",
    "        \n",
    "    def title(self, text) -> DOM:\n",
    "        return DOM(text, \"h3\",\n",
    "                   {\"style\":\"color:#FFAA33;background-color:#FFFFFF;padding:3px\"})\n",
    "    \n",
    "    def empty_step(self,):\n",
    "        return DOM(\"\",\"ul\",dict())\n",
    "    \n",
    "    def new_line(self, inner):\n",
    "        return DOM(inner,\"li\",dict(style=\"padding:2px;background-color:#FFFFDD\"))\n",
    "        \n",
    "    def narrate(self,):\n",
    "        config = self.phase.config\n",
    "        doc = DOM(\"\",\"div\")\n",
    "        if \"enrich\" in config:\n",
    "            step =  self.empty_step()\n",
    "            step.append(self.title(\"Step 1: Enrich\"))\n",
    "            enrichs = config['enrich']\n",
    "            \n",
    "            for enrich in enrichs:\n",
    "                src = enrich.get('src')\n",
    "                enrich_type = enrich.get('enrich')\n",
    "                step.append(self.new_line(f\"select column '{src}' for 'src'\"))\n",
    "                step.append(\n",
    "                    self.new_line(\n",
    "                        f\"select '{enrich_type}' for 'enrich'\"))\n",
    "                step.append(self.new_line(list_group_kv(enrich.get(\"kwargs\"))))\n",
    "            step.append(self.new_line(\"Click ✔️Next above\"))\n",
    "            doc.append(step)\n",
    "        else:\n",
    "            step =  self.empty_step()\n",
    "            step.append(self.title(\"Step 1: Enrich\"))\n",
    "            step.append(self.new_line(\"No enrich set, click ✔️Next above\"))\n",
    "            doc.append(step)\n",
    "        return doc"
   ]
  },
  {
   "cell_type": "code",
   "execution_count": 60,
   "metadata": {},
   "outputs": [
    {
     "data": {
      "text/html": [
       "<div><ul><h3 style=\"color:#FFAA33;background-color:#FFFFFF;padding:3px\">Step 1: Enrich</h3><li style=\"padding:2px;background-color:#FFFFDD\">select column 'image_path' for 'src'</li><li style=\"padding:2px;background-color:#FFFFDD\">select 'EnrichImage' for 'enrich'</li><li style=\"padding:2px;background-color:#FFFFDD\"><table class=\".table\"><tr class=\"tr\"><th class=\"font-weight-bold th\" style=\"color:#FF5522;padding:2px\">convert:</th><td class=\"font-weight-bold td\" style=\"color:#333355;padding:2px;border-bottom:1px solid #333355\">RGB </td></tr><tr class=\"tr\"><th class=\"font-weight-bold th\" style=\"color:#FF5522;padding:2px\">size:</th><td class=\"font-weight-bold td\" style=\"color:#333355;padding:2px;border-bottom:1px solid #333355\">224 </td></tr></table></li><li style=\"padding:2px;background-color:#FFFFDD\">Click ✔️Next above</li></ul></div>"
      ],
      "text/plain": [
       "<IPython.core.display.HTML object>"
      ]
     },
     "metadata": {},
     "output_type": "display_data"
    }
   ],
   "source": [
    "Narrator(phase)()"
   ]
  },
  {
   "cell_type": "code",
   "execution_count": null,
   "metadata": {},
   "outputs": [],
   "source": []
  }
 ],
 "metadata": {
  "kernelspec": {
   "display_name": "Python 3 (ipykernel)",
   "language": "python",
   "name": "python3"
  },
  "language_info": {
   "codemirror_mode": {
    "name": "ipython",
    "version": 3
   },
   "file_extension": ".py",
   "mimetype": "text/x-python",
   "name": "python",
   "nbconvert_exporter": "python",
   "pygments_lexer": "ipython3",
   "version": "3.7.4"
  },
  "toc": {
   "base_numbering": 1,
   "nav_menu": {},
   "number_sections": true,
   "sideBar": true,
   "skip_h1_title": false,
   "title_cell": "Table of Contents",
   "title_sidebar": "Contents",
   "toc_cell": false,
   "toc_position": {},
   "toc_section_display": true,
   "toc_window_display": false
  }
 },
 "nbformat": 4,
 "nbformat_minor": 4
}
