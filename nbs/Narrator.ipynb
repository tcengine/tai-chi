{
 "cells": [
  {
   "cell_type": "code",
   "execution_count": 54,
   "metadata": {},
   "outputs": [],
   "source": [
    "from tai_chi_tuna.config import PhaseConfig\n",
    "from tai_chi_tuna.front.html import DOM, list_group_kv\n",
    "from pathlib import Path"
   ]
  },
  {
   "cell_type": "code",
   "execution_count": 18,
   "metadata": {},
   "outputs": [],
   "source": [
    "!mkdir -p example1"
   ]
  },
  {
   "cell_type": "code",
   "execution_count": 25,
   "metadata": {},
   "outputs": [
    {
     "name": "stdout",
     "output_type": "stream",
     "text": [
      "Overwriting example1/phase.json\n"
     ]
    }
   ],
   "source": [
    "%%writefile example1/phase.json\n",
    "{\n",
    "  \"enrich\": [\n",
    "    {\n",
    "      \"src\": \"image_path\",\n",
    "      \"dst\": \"image\",\n",
    "      \"kwargs\": {\n",
    "        \"convert\": \"RGB\",\n",
    "        \"size\": 224\n",
    "      },\n",
    "      \"enrich\": \"EnrichImage\"\n",
    "    }\n",
    "  ],\n",
    "  \"quantify\": [\n",
    "    {\n",
    "      \"src\": \"image\",\n",
    "      \"x\": true,\n",
    "      \"kwargs\": {\n",
    "        \"mean_\": \"imagenet\",\n",
    "        \"std_\": \"imagenet\"\n",
    "      },\n",
    "      \"quantify\": \"QuantifyImage\"\n",
    "    },\n",
    "    {\n",
    "      \"src\": \"Genre\",\n",
    "      \"x\": false,\n",
    "      \"kwargs\": {\n",
    "        \"min_frequency\": 1,\n",
    "        \"separator\": \";\"\n",
    "      },\n",
    "      \"quantify\": \"QuantifyMultiCategory\"\n",
    "    }\n",
    "  ],\n",
    "  \"batch_level\": {\n",
    "    \"valid_ratio\": 0.1,\n",
    "    \"batch_size\": 32,\n",
    "    \"shuffle\": true,\n",
    "    \"num_workers\": 0\n",
    "  },\n",
    "  \"x_models\": {\n",
    "    \"image\": {\n",
    "      \"model_name\": \"ImageConvEncoder\",\n",
    "      \"src\": \"image\",\n",
    "      \"kwargs\": {\n",
    "        \"name\": \"resnet34\"\n",
    "      }\n",
    "    }\n",
    "  },\n",
    "  \"y_models\": {\n",
    "    \"Genre\": {\n",
    "      \"model_name\": \"MultiCategoryTop\",\n",
    "      \"src\": \"Genre\",\n",
    "      \"kwargs\": {\n",
    "        \"hidden_size\": 0\n",
    "      }\n",
    "    }\n",
    "  },\n",
    "  \"task_slug\": \"image_to_Genre\"\n",
    "}"
   ]
  },
  {
   "cell_type": "code",
   "execution_count": 26,
   "metadata": {},
   "outputs": [
    {
     "name": "stderr",
     "output_type": "stream",
     "text": [
      "WARNING:root:Loading phase config from example1/phase.json\n"
     ]
    }
   ],
   "source": [
    "phase = PhaseConfig.load(Path(\"./example1\"))"
   ]
  },
  {
   "cell_type": "code",
   "execution_count": 120,
   "metadata": {},
   "outputs": [],
   "source": [
    "def join_col_list(Columns):\n",
    "    return \",\".join(map(lambda x:f\"'{x['src']}'\", Columns))"
   ]
  },
  {
   "cell_type": "code",
   "execution_count": 123,
   "metadata": {},
   "outputs": [],
   "source": [
    "class Narrator:\n",
    "    x_color = \"#3399FF\"\n",
    "    y_color = \"#FF5533\"\n",
    "    def __init__(self, phase):\n",
    "        self.phase=phase\n",
    "        \n",
    "    def __call__(self,):\n",
    "        self.narrate()()\n",
    "        \n",
    "    def title(self, text) -> DOM:\n",
    "        return DOM(text, \"h3\",\n",
    "                   {\"style\":\"color:#FFAA33;background-color:#FFFFFF;padding:3px\"})\n",
    "    \n",
    "    def empty_step(self,):\n",
    "        return DOM(\"\",\"ul\",dict())\n",
    "    \n",
    "    def new_line(self, inner):\n",
    "        return DOM(inner,\"li\",dict(style=\"padding:2px;background-color:#FFFFDD\"))\n",
    "        \n",
    "    def narrate(self,):\n",
    "        config = self.phase.config\n",
    "        doc = DOM(\"\",\"div\")\n",
    "        step =  self.empty_step()\n",
    "        step.append(self.title(\"Step 1: Enrich\"))\n",
    "        if \"enrich\" in config:\n",
    "            enrichs = config['enrich']\n",
    "            for enrich in enrichs:\n",
    "                src = enrich.get('src')\n",
    "                enrich_type = enrich.get('enrich')\n",
    "                step.append(self.new_line(f\"select column '{src}' for 'src'\"))\n",
    "                step.append(\n",
    "                    self.new_line(\n",
    "                        f\"select '{enrich_type}' for 'enrich'\"))\n",
    "                step.append(\n",
    "                    self.new_line(\n",
    "                        f\"The kwargs of '{enrich_type}' should be set to:\"))\n",
    "                step.append(self.new_line(list_group_kv(enrich.get(\"kwargs\"))))\n",
    "            step.append(self.new_line(\"Congrats! now Click ✔️Next above\"))\n",
    "        else:\n",
    "            step.append(self.new_line(\"No enrich set, click ✔️Next above\"))\n",
    "        doc.append(step)\n",
    "        \n",
    "        step =  self.empty_step()\n",
    "        step.append(self.title(\"Step 2: Quantify\"))\n",
    "        if \"quantify\" in config:\n",
    "            quantifies  = config['quantify']\n",
    "            Xs = list(filter(lambda x:x['x'], quantifies))\n",
    "            Ys = list(filter(lambda x:x['x']==False, quantifies))\n",
    "            \n",
    "            step.append(\n",
    "                self.new_line(f\"\"\"\n",
    "                In this model we are using \n",
    "                <strong style='color:{self.x_color}'>\n",
    "                column(s):{join_col_list(Xs)}</strong> \n",
    "                to guess <strong style='color:{self.y_color}'>\n",
    "                column:{join_col_list(Ys)}</strong>\n",
    "                \"\"\")\n",
    "            )\n",
    "            \n",
    "            for is_x, Columns in zip([True, False],[Xs,Ys]):\n",
    "                if is_x:\n",
    "                    step.append(\n",
    "                        self.new_line(\n",
    "                            f\"\"\"\n",
    "                            <h4 style='color:{self.x_color}'>\n",
    "                            There are {len(Xs)} X column(s):</h4>\"\"\"\n",
    "                        ))\n",
    "                else:\n",
    "                    step.append(\n",
    "                        self.new_line(\n",
    "                            f\"\"\"\n",
    "                            <h4 style='color:{self.y_color}'>\n",
    "                            There is our {len(Ys)} Y column:</h4>\"\"\"\n",
    "                        ))\n",
    "                for col in Columns:\n",
    "                    step.append(\n",
    "                        self.new_line(f\"\"\"\n",
    "                        <h5>Quantify config for '{col['src']}' column</h5>\"\"\")\n",
    "                    )\n",
    "                    step.append(\n",
    "                        self.new_line(f\"\"\"\n",
    "                        Select '{col['src']}' as 'src'\"\"\"))\n",
    "                    step.append(\n",
    "                        self.new_line(f\"\"\"\n",
    "                        Choose 'As {'X' if is_x else 'Y'}', \n",
    "                        So column {col['src']} is used as \n",
    "                        {'input' if is_x else 'output'} data\"\"\"))\n",
    "                    step.append(\n",
    "                        self.new_line(f\"Click Button: 'Run Interact'\"))\n",
    "                    step.append(\n",
    "                        self.new_line(f\"\"\"\n",
    "                        Choose '{col['quantify']}' as the method to \n",
    "                        transform '{col['src']}' into matrix/tensor\"\"\"))\n",
    "                    if 'kwargs' in col:\n",
    "                        step.append(\n",
    "                            self.new_line(\n",
    "                                f\"Click Button: 'Run Interact' to set kwargs\"))\n",
    "                        step.append(\n",
    "                            self.new_line(\n",
    "                                f\"The kwargs of '{col['quantify']}' should be set to:\"))\n",
    "                        step.append(\n",
    "                            self.new_line(list_group_kv(col[\"kwargs\"])))\n",
    "                        step.append(\n",
    "                            self.new_line(f'Click Button:+Create'))\n",
    "                    else:\n",
    "                        step.append(\n",
    "                            self.new_line(f\"\"\"\n",
    "                            Click Button: 'Run Interact' then click '+Create'\"\"\"))\n",
    "            step.append(self.new_line(\n",
    "                \"Congrats! now Click ✔️Next above\"))\n",
    "        doc.append(step)\n",
    "        return doc"
   ]
  },
  {
   "cell_type": "code",
   "execution_count": 124,
   "metadata": {},
   "outputs": [
    {
     "ename": "NameError",
     "evalue": "name 'x_color' is not defined",
     "output_type": "error",
     "traceback": [
      "\u001b[0;31m---------------------------------------------------------------------------\u001b[0m",
      "\u001b[0;31mNameError\u001b[0m                                 Traceback (most recent call last)",
      "\u001b[0;32m/var/folders/1d/fd4ndy_911b7z9n9ddf96fyh0000gn/T/ipykernel_48128/2252964030.py\u001b[0m in \u001b[0;36m<module>\u001b[0;34m\u001b[0m\n\u001b[0;32m----> 1\u001b[0;31m \u001b[0mNarrator\u001b[0m\u001b[0;34m(\u001b[0m\u001b[0mphase\u001b[0m\u001b[0;34m)\u001b[0m\u001b[0;34m(\u001b[0m\u001b[0;34m)\u001b[0m\u001b[0;34m\u001b[0m\u001b[0;34m\u001b[0m\u001b[0m\n\u001b[0m",
      "\u001b[0;32m/var/folders/1d/fd4ndy_911b7z9n9ddf96fyh0000gn/T/ipykernel_48128/8223905.py\u001b[0m in \u001b[0;36m__call__\u001b[0;34m(self)\u001b[0m\n\u001b[1;32m      6\u001b[0m \u001b[0;34m\u001b[0m\u001b[0m\n\u001b[1;32m      7\u001b[0m     \u001b[0;32mdef\u001b[0m \u001b[0m__call__\u001b[0m\u001b[0;34m(\u001b[0m\u001b[0mself\u001b[0m\u001b[0;34m,\u001b[0m\u001b[0;34m)\u001b[0m\u001b[0;34m:\u001b[0m\u001b[0;34m\u001b[0m\u001b[0;34m\u001b[0m\u001b[0m\n\u001b[0;32m----> 8\u001b[0;31m         \u001b[0mself\u001b[0m\u001b[0;34m.\u001b[0m\u001b[0mnarrate\u001b[0m\u001b[0;34m(\u001b[0m\u001b[0;34m)\u001b[0m\u001b[0;34m(\u001b[0m\u001b[0;34m)\u001b[0m\u001b[0;34m\u001b[0m\u001b[0;34m\u001b[0m\u001b[0m\n\u001b[0m\u001b[1;32m      9\u001b[0m \u001b[0;34m\u001b[0m\u001b[0m\n\u001b[1;32m     10\u001b[0m     \u001b[0;32mdef\u001b[0m \u001b[0mtitle\u001b[0m\u001b[0;34m(\u001b[0m\u001b[0mself\u001b[0m\u001b[0;34m,\u001b[0m \u001b[0mtext\u001b[0m\u001b[0;34m)\u001b[0m \u001b[0;34m->\u001b[0m \u001b[0mDOM\u001b[0m\u001b[0;34m:\u001b[0m\u001b[0;34m\u001b[0m\u001b[0;34m\u001b[0m\u001b[0m\n",
      "\u001b[0;32m/var/folders/1d/fd4ndy_911b7z9n9ddf96fyh0000gn/T/ipykernel_48128/8223905.py\u001b[0m in \u001b[0;36mnarrate\u001b[0;34m(self)\u001b[0m\n\u001b[1;32m     55\u001b[0m                 \u001b[0mto\u001b[0m \u001b[0mguess\u001b[0m \u001b[0;34m<\u001b[0m\u001b[0mstrong\u001b[0m \u001b[0mstyle\u001b[0m\u001b[0;34m=\u001b[0m\u001b[0;34m'color:{y_color}'\u001b[0m\u001b[0;34m>\u001b[0m\u001b[0;34m\u001b[0m\u001b[0;34m\u001b[0m\u001b[0m\n\u001b[1;32m     56\u001b[0m                 \u001b[0mcolumn\u001b[0m\u001b[0;34m:\u001b[0m\u001b[0;34m{\u001b[0m\u001b[0mjoin_col_list\u001b[0m\u001b[0;34m(\u001b[0m\u001b[0mYs\u001b[0m\u001b[0;34m)\u001b[0m\u001b[0;34m}\u001b[0m\u001b[0;34m<\u001b[0m\u001b[0;34m/\u001b[0m\u001b[0mstrong\u001b[0m\u001b[0;34m>\u001b[0m\u001b[0;34m\u001b[0m\u001b[0;34m\u001b[0m\u001b[0m\n\u001b[0;32m---> 57\u001b[0;31m                 \"\"\")\n\u001b[0m\u001b[1;32m     58\u001b[0m             )\n\u001b[1;32m     59\u001b[0m \u001b[0;34m\u001b[0m\u001b[0m\n",
      "\u001b[0;31mNameError\u001b[0m: name 'x_color' is not defined"
     ]
    }
   ],
   "source": [
    "Narrator(phase)()"
   ]
  },
  {
   "cell_type": "code",
   "execution_count": null,
   "metadata": {},
   "outputs": [],
   "source": []
  }
 ],
 "metadata": {
  "kernelspec": {
   "display_name": "Python 3 (ipykernel)",
   "language": "python",
   "name": "python3"
  },
  "language_info": {
   "codemirror_mode": {
    "name": "ipython",
    "version": 3
   },
   "file_extension": ".py",
   "mimetype": "text/x-python",
   "name": "python",
   "nbconvert_exporter": "python",
   "pygments_lexer": "ipython3",
   "version": "3.7.4"
  },
  "toc": {
   "base_numbering": 1,
   "nav_menu": {},
   "number_sections": true,
   "sideBar": true,
   "skip_h1_title": false,
   "title_cell": "Table of Contents",
   "title_sidebar": "Contents",
   "toc_cell": false,
   "toc_position": {},
   "toc_section_display": true,
   "toc_window_display": false
  }
 },
 "nbformat": 4,
 "nbformat_minor": 4
}
